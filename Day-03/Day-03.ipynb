{
 "cells": [
  {
   "cell_type": "markdown",
   "id": "1940eac4",
   "metadata": {},
   "source": [
    "## Operators:\n",
    "    - Arithmetic => +,-,*,/,%,floor Division(//),power(**)\n",
    "    - Assignment => +=,-=,/=,%=,//=,*=\n",
    "    - Logical => AND,OR,NOT\n",
    "    - Bitwise => &,|,!,<<,>>\n",
    "    - Relational => >,<,<=,>=,==,!=\n",
    "    - Membership => in, not in\n",
    "    - Identity => is,is not"
   ]
  },
  {
   "cell_type": "code",
   "execution_count": 6,
   "id": "e526d315",
   "metadata": {},
   "outputs": [
    {
     "data": {
      "text/plain": [
       "428"
      ]
     },
     "execution_count": 6,
     "metadata": {},
     "output_type": "execute_result"
    }
   ],
   "source": [
    "a = 140\n",
    "b = 300\n",
    "a | b"
   ]
  },
  {
   "cell_type": "code",
   "execution_count": 7,
   "id": "a2ad8978",
   "metadata": {},
   "outputs": [
    {
     "data": {
      "text/plain": [
       "16"
      ]
     },
     "execution_count": 7,
     "metadata": {},
     "output_type": "execute_result"
    }
   ],
   "source": [
    "4**2"
   ]
  },
  {
   "cell_type": "markdown",
   "id": "5d5aaa62",
   "metadata": {},
   "source": [
    "## Conditional Statements:\n",
    "    - To check whether a given condition is either True or False\n",
    "    - if => Single Case\n",
    "    - if-else => Two Cases\n",
    "    - nested if => 3 or more cases\n",
    "    - elif => 3 or more n number of cases"
   ]
  },
  {
   "cell_type": "markdown",
   "id": "39a8f865",
   "metadata": {},
   "source": [
    "## if\n",
    "    Syntax:\n",
    "        if condition:\n",
    "            //stmnts"
   ]
  },
  {
   "cell_type": "code",
   "execution_count": 9,
   "id": "0eae2330",
   "metadata": {},
   "outputs": [
    {
     "name": "stdout",
     "output_type": "stream",
     "text": [
      "Enter a number: 30\n",
      "Entered Number 30 is Equal to 30\n"
     ]
    }
   ],
   "source": [
    "n = int(input(\"Enter a number: \"))\n",
    "if n == 30:\n",
    "    print(\"Entered Number {} is Equal to 30\".format(n))"
   ]
  },
  {
   "cell_type": "code",
   "execution_count": 11,
   "id": "2edc95be",
   "metadata": {},
   "outputs": [
    {
     "name": "stdout",
     "output_type": "stream",
     "text": [
      "Enter a number to Fix: 50\n",
      "Enter a numer to Check: 50\n",
      "Entered Number 50 is Equal to 50\n"
     ]
    }
   ],
   "source": [
    "n = int(input(\"Enter a number to Fix: \"))\n",
    "b = int(input(\"Enter a numer to Check: \"))\n",
    "if n == b:\n",
    "    print(\"Entered Number {} is Equal to {}\".format(n,b))"
   ]
  },
  {
   "cell_type": "markdown",
   "id": "133f821a",
   "metadata": {},
   "source": [
    "## if-else:\n",
    "    Syntax:\n",
    "        if condition:\n",
    "            //stmnt-1\n",
    "        else:\n",
    "            //stmnt-2"
   ]
  },
  {
   "cell_type": "code",
   "execution_count": 13,
   "id": "a1b8d27f",
   "metadata": {},
   "outputs": [
    {
     "name": "stdout",
     "output_type": "stream",
     "text": [
      "Enter a number:10\n",
      "Entered Number 10 is Lesser than 30\n"
     ]
    }
   ],
   "source": [
    "n = int(input(\"Enter a number:\"))\n",
    "if n>30:\n",
    "    print(\"Entered Number {} is Greater than 30\"\n",
    "          .format(n))\n",
    "else:\n",
    "    print(\"Entered Number {} is Lesser than 30\"\n",
    "         .format(n))"
   ]
  },
  {
   "cell_type": "markdown",
   "id": "d4fe503c",
   "metadata": {},
   "source": [
    "```\n",
    "5 - 10\n",
    "Input:\n",
    "    6\n",
    "Output:\n",
    "    Entered Number is 6 and it is between range of 5-10\n",
    "\n",
    "Input:\n",
    "    12\n",
    "Output:\n",
    "   ```"
   ]
  },
  {
   "cell_type": "code",
   "execution_count": 16,
   "id": "3f3fe7b8",
   "metadata": {},
   "outputs": [
    {
     "name": "stdout",
     "output_type": "stream",
     "text": [
      "Enter a number: 20\n",
      "Entered Number is: 20\n"
     ]
    }
   ],
   "source": [
    "n = int(input(\"Enter a number: \"))\n",
    "if n>=5 and n<=10:\n",
    "    print(\"Entered Number {} is in between\"\n",
    "          \" range of 5 and 10\".format(n))\n",
    "else:\n",
    "    print(\"Entered Number is: {}\".format(n))"
   ]
  },
  {
   "cell_type": "markdown",
   "id": "0ae11378",
   "metadata": {},
   "source": [
    "## Nested if\n",
    "    Syntax:\n",
    "    else optional case\n",
    "        if condition-1:\n",
    "            if condition-2:\n",
    "                //stmnt-1\n",
    "            else:\n",
    "                //stmnt-2\n",
    "        else:\n",
    "            //stmnt-3"
   ]
  },
  {
   "cell_type": "code",
   "execution_count": 19,
   "id": "9b4a7fc5",
   "metadata": {},
   "outputs": [
    {
     "name": "stdout",
     "output_type": "stream",
     "text": [
      "Enter a number: 600\n",
      "Entered Number 600 is Greater than 500\n"
     ]
    }
   ],
   "source": [
    "n = int(input(\"Enter a number: \"))\n",
    "if n<1000:\n",
    "    if n>500:\n",
    "        print(\"Entered Number {} is Greater than 500\"\n",
    "             .format(n))\n",
    "    else:\n",
    "        print(\"Entered Number {} is Lesser than 500\"\n",
    "             .format(n))\n",
    "else:\n",
    "    print(\"Entered Number {} is Greater than 1000\"\n",
    "         .format(n))"
   ]
  },
  {
   "cell_type": "code",
   "execution_count": 22,
   "id": "b273dfbd",
   "metadata": {},
   "outputs": [
    {
     "name": "stdout",
     "output_type": "stream",
     "text": [
      "Enter Your mailid: demo@gmail.com\n",
      "Enter Your Password: 456\n",
      "Welcome User demo@gmail.com!!!\n"
     ]
    }
   ],
   "source": [
    "m = input(\"Enter Your mailid: \")\n",
    "if m == \"demo@gmail.com\":\n",
    "    p = input(\"Enter Your Password: \")\n",
    "    if p == \"456\":\n",
    "        print(\"Welcome User {}!!!\".format(m))\n",
    "    else:\n",
    "        print(\"Invalid Password\")\n",
    "else:\n",
    "    print(\"Invalid userid {}\".format(m))"
   ]
  },
  {
   "cell_type": "markdown",
   "id": "ad1f0fd0",
   "metadata": {},
   "source": [
    "## elif \n",
    "    Syntax:\n",
    "        if condition-1:\n",
    "            //stmnt-1\n",
    "        elif condition-2:\n",
    "            //stmnt-2\n",
    "        elif condition-n:\n",
    "            //stmnt-n\n",
    "            |       |\n",
    "        elif condition-(n-2):\n",
    "            //stmn-(n-2)\n",
    "        else:\n",
    "            //stmnt-(n-1)"
   ]
  },
  {
   "cell_type": "code",
   "execution_count": 31,
   "id": "ebb63bca",
   "metadata": {},
   "outputs": [
    {
     "name": "stdout",
     "output_type": "stream",
     "text": [
      "Enter a number: 34\n",
      "34 is Even\n"
     ]
    }
   ],
   "source": [
    "n = int(input(\"Enter a number: \"))\n",
    "if n%3==0 and n<30:\n",
    "    print(\"{} is divisible by 3\".format(n))\n",
    "elif n%5==0 and n>30:\n",
    "    print(\"{} is divisible by 5\".format(n))\n",
    "elif n%2==0:\n",
    "    print(\"{} is Even\".format(n))\n",
    "else:\n",
    "    print(\"{} is Odd\".format(n))"
   ]
  },
  {
   "cell_type": "code",
   "execution_count": null,
   "id": "85339c78",
   "metadata": {},
   "outputs": [],
   "source": []
  }
 ],
 "metadata": {
  "kernelspec": {
   "display_name": "Python 3",
   "language": "python",
   "name": "python3"
  },
  "language_info": {
   "codemirror_mode": {
    "name": "ipython",
    "version": 3
   },
   "file_extension": ".py",
   "mimetype": "text/x-python",
   "name": "python",
   "nbconvert_exporter": "python",
   "pygments_lexer": "ipython3",
   "version": "3.7.5"
  }
 },
 "nbformat": 4,
 "nbformat_minor": 5
}
