{
 "cells": [
  {
   "cell_type": "markdown",
   "id": "d704f640",
   "metadata": {},
   "source": [
    "## Nested Loop:\n",
    "    - Loop within a Loop"
   ]
  },
  {
   "cell_type": "code",
   "execution_count": 8,
   "id": "a406ea89",
   "metadata": {},
   "outputs": [
    {
     "name": "stdout",
     "output_type": "stream",
     "text": [
      "Enter a range: 3\n",
      "A0 A1 A2 \n",
      "B0 B1 B2 \n",
      "C0 C1 C2 \n"
     ]
    }
   ],
   "source": [
    "n = int(input(\"Enter a range: \"))\n",
    "for i in range(n):\n",
    "    for j in range(n):\n",
    "        print(\"{}{}\".format(chr(65+i),j),end=\" \")\n",
    "    print()"
   ]
  },
  {
   "cell_type": "code",
   "execution_count": 5,
   "id": "cbbda895",
   "metadata": {},
   "outputs": [
    {
     "data": {
      "text/plain": [
       "'A'"
      ]
     },
     "execution_count": 5,
     "metadata": {},
     "output_type": "execute_result"
    }
   ],
   "source": [
    "chr(65)"
   ]
  },
  {
   "cell_type": "code",
   "execution_count": 6,
   "id": "e55e2c6b",
   "metadata": {},
   "outputs": [
    {
     "data": {
      "text/plain": [
       "65"
      ]
     },
     "execution_count": 6,
     "metadata": {},
     "output_type": "execute_result"
    }
   ],
   "source": [
    "ord('A')"
   ]
  },
  {
   "cell_type": "code",
   "execution_count": 9,
   "id": "ff400338",
   "metadata": {},
   "outputs": [
    {
     "name": "stdout",
     "output_type": "stream",
     "text": [
      "Enter a range: 4\n",
      "* * * * \n",
      "* * * * \n",
      "* * * * \n",
      "* * * * \n"
     ]
    }
   ],
   "source": [
    "n = int(input(\"Enter a range: \"))\n",
    "for i in range(n):\n",
    "    for j in range(n):\n",
    "        print(\"*\",end=\" \")\n",
    "    print()"
   ]
  },
  {
   "cell_type": "code",
   "execution_count": 10,
   "id": "ea2b58bf",
   "metadata": {},
   "outputs": [
    {
     "name": "stdout",
     "output_type": "stream",
     "text": [
      "Enter a range: 4\n",
      "* \n",
      "* * \n",
      "* * * \n",
      "* * * * \n"
     ]
    }
   ],
   "source": [
    "n = int(input(\"Enter a range: \"))\n",
    "for i in range(n):\n",
    "    for j in range(i+1):\n",
    "        print(\"*\",end=\" \")\n",
    "    print()"
   ]
  },
  {
   "cell_type": "code",
   "execution_count": 11,
   "id": "69ab0b45",
   "metadata": {},
   "outputs": [
    {
     "name": "stdout",
     "output_type": "stream",
     "text": [
      "Enter a range: 4\n",
      "A \n",
      "B B \n",
      "C C C \n",
      "D D D D \n"
     ]
    }
   ],
   "source": [
    "n = int(input(\"Enter a range: \"))\n",
    "for i in range(n):\n",
    "    for j in range(i+1):\n",
    "        print(\"{}\".format(chr(65+i)),end=\" \")\n",
    "    print()"
   ]
  },
  {
   "cell_type": "code",
   "execution_count": 17,
   "id": "bb96b77a",
   "metadata": {},
   "outputs": [
    {
     "name": "stdout",
     "output_type": "stream",
     "text": [
      "Enter a range: 4\n",
      "A \n",
      "B C \n",
      "D E F \n",
      "G H I J \n"
     ]
    }
   ],
   "source": [
    "n = int(input(\"Enter a range: \"))\n",
    "a = 65\n",
    "for i in range(n):\n",
    "    for j in range(i+1):\n",
    "        print(\"{}\".format(chr(a)),end=\" \")\n",
    "        a +=1\n",
    "    print()"
   ]
  },
  {
   "cell_type": "code",
   "execution_count": 20,
   "id": "bfd3cf10",
   "metadata": {},
   "outputs": [
    {
     "name": "stdout",
     "output_type": "stream",
     "text": [
      "Enter a range: 4\n",
      "* * * * \n",
      "*     * \n",
      "*     * \n",
      "* * * * \n"
     ]
    }
   ],
   "source": [
    "n=int(input(\"Enter a range: \"))\n",
    "for i in range(n):\n",
    "    for j in range(n):\n",
    "        if (i==0 or j==0) or (i==n-1 or j==n-1):\n",
    "            print(\"*\",end=\" \")\n",
    "        else:\n",
    "            print(\" \",end=\" \")\n",
    "    print()"
   ]
  },
  {
   "cell_type": "code",
   "execution_count": 22,
   "id": "609c8c05",
   "metadata": {},
   "outputs": [
    {
     "name": "stdout",
     "output_type": "stream",
     "text": [
      "Enter a range: 5\n",
      "* * * * * \n",
      "* # # # * \n",
      "* # # # * \n",
      "* # # # * \n",
      "* * * * * \n"
     ]
    }
   ],
   "source": [
    "n=int(input(\"Enter a range: \"))\n",
    "for i in range(n):\n",
    "    for j in range(n):\n",
    "        if (i==0 or j==0) or (i==n-1 or j==n-1):\n",
    "            print(\"*\",end=\" \")\n",
    "        else:\n",
    "            print(\"#\",end=\" \")\n",
    "    print()"
   ]
  },
  {
   "cell_type": "code",
   "execution_count": 25,
   "id": "2f9ab8e3",
   "metadata": {},
   "outputs": [
    {
     "name": "stdout",
     "output_type": "stream",
     "text": [
      "Enter a range: 5\n",
      "* * * * * \n",
      "* A B C * \n",
      "* D E F * \n",
      "* G H I * \n",
      "* * * * * \n"
     ]
    }
   ],
   "source": [
    "n=int(input(\"Enter a range: \"))\n",
    "p = 65\n",
    "for i in range(n):\n",
    "    for j in range(n):\n",
    "        if (i==0 or j==0) or (i==n-1 or j==n-1):\n",
    "            print(\"*\",end=\" \")\n",
    "        else:\n",
    "            print(chr(p),end=\" \")\n",
    "            p+=1\n",
    "    print()"
   ]
  },
  {
   "cell_type": "markdown",
   "id": "3bdea7ad",
   "metadata": {},
   "source": [
    "## Functions:\n",
    "    - To perform a specific task\n",
    "    - Builtin => Work is to be fixed\n",
    "    - User Defined => User has to decide the work\n",
    "    Syntax:\n",
    "        def functionname(arguments):\n",
    "            //stmnts\n",
    "            return return_value"
   ]
  },
  {
   "cell_type": "markdown",
   "id": "75ba870b",
   "metadata": {},
   "source": [
    "## User Defined Functions:\n",
    "    - With returntype and with arguments\n",
    "    - With returntype and without arguments\n",
    "    - Without returntype and with arguments\n",
    "    - Without returntype and without arguments"
   ]
  },
  {
   "cell_type": "code",
   "execution_count": 27,
   "id": "00a35b32",
   "metadata": {},
   "outputs": [
    {
     "name": "stdout",
     "output_type": "stream",
     "text": [
      "Enter a range: 5\n",
      "Sum of even numbers in range 5 is: 6\n"
     ]
    }
   ],
   "source": [
    "# With returntype and with arguments\n",
    "# Reading => Main\n",
    "# Prinitng => Main\n",
    "# Logic => Function\n",
    "def nsm(k):\n",
    "    es = 0\n",
    "    for i in range(k):\n",
    "        if i%2==0:\n",
    "            es += i\n",
    "    return es\n",
    "\n",
    "n = int(input(\"Enter a range: \"))\n",
    "print(\"Sum of even numbers in range {} is: {}\"\n",
    "      .format(n,nsm(n)))"
   ]
  },
  {
   "cell_type": "code",
   "execution_count": 30,
   "id": "72460b94",
   "metadata": {},
   "outputs": [
    {
     "name": "stdout",
     "output_type": "stream",
     "text": [
      "Enter a range: 5\n",
      "Sum of even numbers in range 5 is: 6\n"
     ]
    }
   ],
   "source": [
    "# With returntype and without arguments\n",
    "# Reading => Function\n",
    "# Prinitng => Main\n",
    "# Logic => Function\n",
    "def nsm():\n",
    "    es = 0\n",
    "    k = int(input(\"Enter a range: \"))\n",
    "    print(\"Sum of even numbers in range {}\"\n",
    "          .format(k),end=\" \")\n",
    "    for i in range(k):\n",
    "        if i%2==0:\n",
    "            es += i\n",
    "    return es\n",
    "\n",
    "print(\"is: {}\".format(nsm()))"
   ]
  },
  {
   "cell_type": "code",
   "execution_count": 33,
   "id": "c8faa721",
   "metadata": {},
   "outputs": [
    {
     "name": "stdout",
     "output_type": "stream",
     "text": [
      "Enter a range: 5\n",
      "Sum of even numbers in range 5 is: 6\n"
     ]
    }
   ],
   "source": [
    "# Without returntype and with arguments\n",
    "# Reading => Main\n",
    "# Prinitng => Function\n",
    "# Logic => Function\n",
    "def nsm(k):\n",
    "    es = 0\n",
    "    for i in range(k):\n",
    "        if i%2==0:\n",
    "            es += i\n",
    "    print(\"Sum of even numbers in range {} is: {}\"\n",
    "      .format(k,es))\n",
    "    return \n",
    "\n",
    "n = int(input(\"Enter a range: \"))\n",
    "nsm(n)"
   ]
  },
  {
   "cell_type": "code",
   "execution_count": 34,
   "id": "d781c39d",
   "metadata": {},
   "outputs": [
    {
     "name": "stdout",
     "output_type": "stream",
     "text": [
      "Enter a range: 5\n",
      "Sum of even numbers in range 5 is: 6\n"
     ]
    }
   ],
   "source": [
    "# Without returntype and without arguments\n",
    "# Reading => Function\n",
    "# Prinitng => Function\n",
    "# Logic => Function\n",
    "def nsm():\n",
    "    es = 0\n",
    "    k = int(input(\"Enter a range: \"))\n",
    "    for i in range(k):\n",
    "        if i%2==0:\n",
    "            es += i\n",
    "    print(\"Sum of even numbers in range {} is: {}\"\n",
    "      .format(k,es))\n",
    "    return \n",
    "\n",
    "nsm()"
   ]
  },
  {
   "cell_type": "markdown",
   "id": "2cbb6a5d",
   "metadata": {},
   "source": [
    "## Function argument and its types\n",
    "    - Required or positional argument\n",
    "    - Default argument\n",
    "    - Keyword argument\n",
    "    - Variable-Length argument"
   ]
  },
  {
   "cell_type": "code",
   "execution_count": 37,
   "id": "619e4c78",
   "metadata": {},
   "outputs": [
    {
     "name": "stdout",
     "output_type": "stream",
     "text": [
      "Enter employee name: ramu\n"
     ]
    },
    {
     "ename": "TypeError",
     "evalue": "empdt() missing 2 required positional arguments: 'ag' and 'k'",
     "output_type": "error",
     "traceback": [
      "\u001b[1;31m---------------------------------------------------------------------------\u001b[0m",
      "\u001b[1;31mTypeError\u001b[0m                                 Traceback (most recent call last)",
      "\u001b[1;32m<ipython-input-37-c53f038f4da2>\u001b[0m in \u001b[0;36m<module>\u001b[1;34m\u001b[0m\n\u001b[0;32m      5\u001b[0m \u001b[1;33m\u001b[0m\u001b[0m\n\u001b[0;32m      6\u001b[0m \u001b[0mn\u001b[0m \u001b[1;33m=\u001b[0m \u001b[0minput\u001b[0m\u001b[1;33m(\u001b[0m\u001b[1;34m\"Enter employee name: \"\u001b[0m\u001b[1;33m)\u001b[0m\u001b[1;33m\u001b[0m\u001b[1;33m\u001b[0m\u001b[0m\n\u001b[1;32m----> 7\u001b[1;33m \u001b[0mempdt\u001b[0m\u001b[1;33m(\u001b[0m\u001b[0mn\u001b[0m\u001b[1;33m)\u001b[0m\u001b[1;33m\u001b[0m\u001b[1;33m\u001b[0m\u001b[0m\n\u001b[0m",
      "\u001b[1;31mTypeError\u001b[0m: empdt() missing 2 required positional arguments: 'ag' and 'k'"
     ]
    }
   ],
   "source": [
    "# Required arguments\n",
    "def empdt(en,ag,k):\n",
    "    print(\"Entered Employee name is: {}\".format(en))\n",
    "    return\n",
    "\n",
    "n = input(\"Enter employee name: \")\n",
    "empdt(n)"
   ]
  },
  {
   "cell_type": "code",
   "execution_count": 39,
   "id": "e819450a",
   "metadata": {},
   "outputs": [
    {
     "ename": "SyntaxError",
     "evalue": "non-default argument follows default argument (<ipython-input-39-8ec3f1aa7df5>, line 2)",
     "output_type": "error",
     "traceback": [
      "\u001b[1;36m  File \u001b[1;32m\"<ipython-input-39-8ec3f1aa7df5>\"\u001b[1;36m, line \u001b[1;32m2\u001b[0m\n\u001b[1;33m    def empdt(en=89,ag,k=20):\u001b[0m\n\u001b[1;37m             ^\u001b[0m\n\u001b[1;31mSyntaxError\u001b[0m\u001b[1;31m:\u001b[0m non-default argument follows default argument\n"
     ]
    }
   ],
   "source": [
    "# Default arguments\n",
    "def empdt(en=89,ag,k=20):\n",
    "    print(\"Entered Employee name is: {}\".format(en))\n",
    "    return\n",
    "\n",
    "n = input(\"Enter employee name: \")\n",
    "empdt(n)"
   ]
  },
  {
   "cell_type": "code",
   "execution_count": 41,
   "id": "80e750c2",
   "metadata": {},
   "outputs": [
    {
     "name": "stdout",
     "output_type": "stream",
     "text": [
      "Enter employee name: prasad\n",
      "Entered Employee name is: prasad and age is: 20\n"
     ]
    }
   ],
   "source": [
    "def empdt(en,ag=20):\n",
    "    print(\"Entered Employee name is: {} and age is: {}\"\n",
    "          .format(en,ag))\n",
    "    return\n",
    "\n",
    "n = input(\"Enter employee name: \")\n",
    "# d = int(input(\"Enter employee age: \"))\n",
    "empdt(n)"
   ]
  },
  {
   "cell_type": "code",
   "execution_count": 43,
   "id": "09ab8905",
   "metadata": {},
   "outputs": [
    {
     "name": "stdout",
     "output_type": "stream",
     "text": [
      "Entered Employee name is: tilak and age is: 30\n"
     ]
    }
   ],
   "source": [
    "# Keyword arguments\n",
    "def empdt(en,k):\n",
    "    print(\"Entered Employee name is: {} and age is: {}\"\n",
    "          .format(en,k))\n",
    "    return\n",
    "\n",
    "# n = input(\"Enter employee name: \")\n",
    "empdt(k=30,en='tilak')"
   ]
  },
  {
   "cell_type": "code",
   "execution_count": 44,
   "id": "40297b91",
   "metadata": {},
   "outputs": [
    {
     "name": "stdout",
     "output_type": "stream",
     "text": [
      "{'na': 'likitha', 'age': 30} <class 'dict'>\n"
     ]
    }
   ],
   "source": [
    "def yp(**h):\n",
    "    print(h,type(h))\n",
    "    return\n",
    "\n",
    "yp(na=\"likitha\",age=30)"
   ]
  },
  {
   "cell_type": "code",
   "execution_count": 48,
   "id": "e267e3e8",
   "metadata": {},
   "outputs": [
    {
     "name": "stdout",
     "output_type": "stream",
     "text": [
      "12 <class 'int'>\n",
      "(45, 'prasad') <class 'tuple'>\n",
      "{'m': 20, 'e': 30} <class 'dict'>\n"
     ]
    }
   ],
   "source": [
    "# Variable-Length arguments\n",
    "def empdt(r,*k,**y):\n",
    "    print(r,type(r))\n",
    "    print(k,type(k))\n",
    "    print(y,type(y))\n",
    "    return\n",
    "\n",
    "empdt(12,45,'prasad',m=20,e=30)"
   ]
  },
  {
   "cell_type": "code",
   "execution_count": 52,
   "id": "9696052c",
   "metadata": {},
   "outputs": [
    {
     "name": "stdout",
     "output_type": "stream",
     "text": [
      "13\n",
      "12\n",
      "120\n",
      "12.0\n",
      "3\n"
     ]
    }
   ],
   "source": [
    "import math\n",
    "print(math.ceil(12.0515))\n",
    "print(math.floor(12.0515))\n",
    "print(math.factorial(5))\n",
    "print(math.fabs(-12))\n",
    "print(math.gcd(12,3))"
   ]
  },
  {
   "cell_type": "code",
   "execution_count": null,
   "id": "26dcceef",
   "metadata": {},
   "outputs": [],
   "source": []
  }
 ],
 "metadata": {
  "kernelspec": {
   "display_name": "Python 3",
   "language": "python",
   "name": "python3"
  },
  "language_info": {
   "codemirror_mode": {
    "name": "ipython",
    "version": 3
   },
   "file_extension": ".py",
   "mimetype": "text/x-python",
   "name": "python",
   "nbconvert_exporter": "python",
   "pygments_lexer": "ipython3",
   "version": "3.7.5"
  }
 },
 "nbformat": 4,
 "nbformat_minor": 5
}
