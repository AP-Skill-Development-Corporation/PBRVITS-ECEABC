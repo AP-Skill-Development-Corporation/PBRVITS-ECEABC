{
 "cells": [
  {
   "cell_type": "markdown",
   "id": "14e555c4",
   "metadata": {},
   "source": [
    "## Loops,Iterations or Repititions:\n",
    "    - for => for known ranges\n",
    "    - while => for both known and unknown ranges"
   ]
  },
  {
   "cell_type": "markdown",
   "id": "1e37a712",
   "metadata": {},
   "source": [
    "## for\n",
    "```\n",
    "  for itertionvariablename in range(start,stop,step):\n",
    "      //stmnts\n",
    "                    or\n",
    "  for iterationvariablename in iterator:\n",
    "       //stmnts\n",
    "```"
   ]
  },
  {
   "cell_type": "markdown",
   "id": "391de029",
   "metadata": {},
   "source": [
    "## range method:\n",
    "    - range(stop):\n",
    "        - By default it starts with 0\n",
    "        - By default it increment with 1\n",
    "        - It stops with stop-1 value\n",
    "        - ex:\n",
    "            range(4):\n",
    "            0 1 2 3\n",
    "    - range(start,stop):\n",
    "        - By default it starts with exactly start value\n",
    "        - By default it increments with 1\n",
    "        - It stops with stop-1 value\n",
    "        - ex:\n",
    "            range(10,16):\n",
    "            10 11 12 13 14 15\n",
    "    - range(start,stop,step):\n",
    "        - By default it starts with exactly start value\n",
    "        - It stops with stop-1 value\n",
    "        - It increments or decrements with step value\n",
    "        - ex:\n",
    "            range(100,350,50):\n",
    "            100 150 200 250 300"
   ]
  },
  {
   "cell_type": "code",
   "execution_count": 5,
   "id": "1517c7ae",
   "metadata": {},
   "outputs": [
    {
     "name": "stdout",
     "output_type": "stream",
     "text": [
      "Enter a range: 20\n",
      "0 1 2 3 4 5 6 7 8 9 10 11 12 13 14 15 16 17 18 19 "
     ]
    }
   ],
   "source": [
    "n = int(input(\"Enter a range: \"))\n",
    "for j in range(n):\n",
    "    print(j,end=\" \")"
   ]
  },
  {
   "cell_type": "code",
   "execution_count": 6,
   "id": "079749ea",
   "metadata": {},
   "outputs": [
    {
     "name": "stdout",
     "output_type": "stream",
     "text": [
      "Enter a range: 10\n",
      "10 9 8 7 6 5 4 3 2 1 "
     ]
    }
   ],
   "source": [
    "n = int(input(\"Enter a range: \"))\n",
    "for j in range(n):\n",
    "    print(n-j,end=\" \")"
   ]
  },
  {
   "cell_type": "code",
   "execution_count": 12,
   "id": "94cae440",
   "metadata": {},
   "outputs": [
    {
     "name": "stdout",
     "output_type": "stream",
     "text": [
      "Enter starting range: 10\n",
      "Enter ending range: 20\n",
      "20 19 18 17 16 15 14 13 12 11 "
     ]
    }
   ],
   "source": [
    "n = int(input(\"Enter starting range: \"))\n",
    "m = int(input(\"Enter ending range: \"))\n",
    "for j in range(n,m):\n",
    "    print(m-j+n,end=\" \")"
   ]
  },
  {
   "cell_type": "code",
   "execution_count": 19,
   "id": "c04e2947",
   "metadata": {},
   "outputs": [
    {
     "name": "stdout",
     "output_type": "stream",
     "text": [
      "Enter Starting range: -10\n",
      "Enter Stopping range: -30\n",
      "Enter Stepping range: -3\n",
      "-10 -13 -16 -19 -22 -25 -28 "
     ]
    }
   ],
   "source": [
    "n = int(input(\"Enter Starting range: \"))\n",
    "m = int(input(\"Enter Stopping range: \"))\n",
    "k = int(input(\"Enter Stepping range: \"))\n",
    "for t in range(n,m,k):\n",
    "    print(t,end=\" \")"
   ]
  },
  {
   "cell_type": "markdown",
   "id": "26a38e63",
   "metadata": {},
   "source": [
    "```\n",
    "Input-1:\n",
    "    5\n",
    "    10\n",
    "    2\n",
    "    6\n",
    "    45\n",
    "    3\n",
    "Output-1:\n",
    "    Given values sum is: ?\n",
    "    Numbers divisible by only 3 and it sum is: ?\n",
    "```"
   ]
  },
  {
   "cell_type": "code",
   "execution_count": 20,
   "id": "8cf024cd",
   "metadata": {},
   "outputs": [
    {
     "name": "stdout",
     "output_type": "stream",
     "text": [
      "5\n",
      "10\n",
      "2\n",
      "6\n",
      "45\n",
      "3\n",
      "Given value sum is: 66\n",
      "Numbers divisible by only 3 sum is: 54\n"
     ]
    }
   ],
   "source": [
    "n = int(input())\n",
    "f,m = 0,0\n",
    "for i in range(n):\n",
    "    k = int(input())\n",
    "    f+=k\n",
    "    if k%3==0:\n",
    "        m+=k\n",
    "print(\"Given value sum is: {}\".format(f))\n",
    "print(\"Numbers divisible by only 3 sum is: {}\".format(m))"
   ]
  },
  {
   "cell_type": "markdown",
   "id": "c31c6ab7",
   "metadata": {},
   "source": [
    "## While:\n",
    "    Syntax:\n",
    "        initialization\n",
    "        while condition:\n",
    "            //stmnts\n",
    "            incr/decr"
   ]
  },
  {
   "cell_type": "code",
   "execution_count": 21,
   "id": "993578d0",
   "metadata": {},
   "outputs": [
    {
     "name": "stdout",
     "output_type": "stream",
     "text": [
      "Enter a range: 10\n",
      "0 1 2 3 4 5 6 7 8 9 "
     ]
    }
   ],
   "source": [
    "n = int(input(\"Enter a range: \"))\n",
    "p = 0\n",
    "while n!=p:\n",
    "    print(p,end=\" \")\n",
    "    p+=1"
   ]
  },
  {
   "cell_type": "code",
   "execution_count": 23,
   "id": "d0d1c115",
   "metadata": {},
   "outputs": [
    {
     "name": "stdout",
     "output_type": "stream",
     "text": [
      "Enter a range: 10\n",
      "0 1 2 3 4 5 6 7 8 9 "
     ]
    }
   ],
   "source": [
    "n = int(input(\"Enter a range: \"))\n",
    "p = 0\n",
    "while n>p:\n",
    "    print(p,end=\" \")\n",
    "    p+=1"
   ]
  },
  {
   "cell_type": "code",
   "execution_count": 24,
   "id": "24300db8",
   "metadata": {},
   "outputs": [
    {
     "name": "stdout",
     "output_type": "stream",
     "text": [
      "Enter a range: 10\n",
      "10 9 8 7 6 5 4 3 2 1 "
     ]
    }
   ],
   "source": [
    "n = int(input(\"Enter a range: \"))\n",
    "while n!=0:\n",
    "    print(n,end=\" \")\n",
    "    n-=1"
   ]
  },
  {
   "cell_type": "code",
   "execution_count": 25,
   "id": "05ac37d5",
   "metadata": {},
   "outputs": [
    {
     "name": "stdout",
     "output_type": "stream",
     "text": [
      "Enter starting range: 20\n",
      "Enter stopping range: 10\n",
      "20 19 18 17 16 15 14 13 12 11 "
     ]
    }
   ],
   "source": [
    "n = int(input(\"Enter starting range: \"))\n",
    "k = int(input(\"Enter stopping range: \"))\n",
    "while n!=k:\n",
    "    print(n,end=\" \")\n",
    "    n-=1"
   ]
  },
  {
   "cell_type": "code",
   "execution_count": 1,
   "id": "3fbbd805",
   "metadata": {},
   "outputs": [
    {
     "name": "stdout",
     "output_type": "stream",
     "text": [
      "Enter starting range: 10\n",
      "Enter stopping range: 20\n",
      "10 11 12 13 14 15 16 17 18 19 "
     ]
    }
   ],
   "source": [
    "n = int(input(\"Enter starting range: \"))\n",
    "k = int(input(\"Enter stopping range: \"))\n",
    "while n!=k:\n",
    "    print(n,end=\" \")\n",
    "    n+=1"
   ]
  },
  {
   "cell_type": "code",
   "execution_count": 3,
   "id": "b3bdec10",
   "metadata": {},
   "outputs": [
    {
     "name": "stdout",
     "output_type": "stream",
     "text": [
      "Enter a number: 1\n",
      "Entered Number is: 1\n",
      "Enter a number: 2\n",
      "Addition with 2 is: 4\n",
      "Enter a number: 0\n"
     ]
    }
   ],
   "source": [
    "while True:\n",
    "    h=int(input(\"Enter a number: \"))\n",
    "    if h == 2:\n",
    "        print(\"Addition with 2 is: {}\".format(h+2))\n",
    "    elif h == 1:\n",
    "        print(\"Entered Number is: {}\".format(h))\n",
    "    elif h == 0:\n",
    "        break\n",
    "    else:\n",
    "        print(\"Try to Enter Valid choice\")"
   ]
  },
  {
   "cell_type": "code",
   "execution_count": 3,
   "id": "32f2f712",
   "metadata": {},
   "outputs": [
    {
     "name": "stdout",
     "output_type": "stream",
     "text": [
      "Enter a number: 10\n",
      "Reverse of value is: 1\n"
     ]
    }
   ],
   "source": [
    "h = int(input(\"Enter a number: \"))\n",
    "p = 0\n",
    "while h!=0:\n",
    "    p = p*10+h%10\n",
    "    h //= 10\n",
    "print(\"Reverse of value is: {}\".format(p))"
   ]
  },
  {
   "cell_type": "markdown",
   "id": "efd9e06e",
   "metadata": {},
   "source": [
    "## Jumping Statements:\n",
    "    - break => It exits from a loop\n",
    "    - continue => It skips a value from a loop\n",
    "    - pass => It works like a continue and for future enhancements it is used\n",
    "    - return => It return a single value or an iterator"
   ]
  },
  {
   "cell_type": "code",
   "execution_count": null,
   "id": "4acb01e0",
   "metadata": {},
   "outputs": [],
   "source": []
  }
 ],
 "metadata": {
  "kernelspec": {
   "display_name": "Python 3",
   "language": "python",
   "name": "python3"
  },
  "language_info": {
   "codemirror_mode": {
    "name": "ipython",
    "version": 3
   },
   "file_extension": ".py",
   "mimetype": "text/x-python",
   "name": "python",
   "nbconvert_exporter": "python",
   "pygments_lexer": "ipython3",
   "version": "3.7.5"
  }
 },
 "nbformat": 4,
 "nbformat_minor": 5
}
