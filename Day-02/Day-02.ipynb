{
 "cells": [
  {
   "cell_type": "markdown",
   "id": "60deb5c4",
   "metadata": {},
   "source": [
    "## Python Basics"
   ]
  },
  {
   "cell_type": "markdown",
   "id": "f551b318",
   "metadata": {},
   "source": [
    "### Variables:\n",
    "    - To Store a value\n",
    "    - To Change a value"
   ]
  },
  {
   "cell_type": "markdown",
   "id": "c2223155",
   "metadata": {},
   "source": [
    "### Data Types:\n",
    "    - int => It allows only numeric values\n",
    "    - float => It allows numeric and decimal values\n",
    "    - string => enclosed with ' or \"\n",
    "    - complex => imaginary and real part\n",
    "    - boolean => True,False and None\n",
    "    - All Data Structures [List,Tuple,Set and Dictionary]"
   ]
  },
  {
   "cell_type": "code",
   "execution_count": 1,
   "id": "1626fc51",
   "metadata": {},
   "outputs": [
    {
     "data": {
      "text/plain": [
       "45"
      ]
     },
     "execution_count": 1,
     "metadata": {},
     "output_type": "execute_result"
    }
   ],
   "source": [
    "r = 45\n",
    "r"
   ]
  },
  {
   "cell_type": "code",
   "execution_count": 5,
   "id": "523a5283",
   "metadata": {},
   "outputs": [
    {
     "data": {
      "text/plain": [
       "('78', 354.0154)"
      ]
     },
     "execution_count": 5,
     "metadata": {},
     "output_type": "execute_result"
    }
   ],
   "source": [
    "t = '78'\n",
    "u = 354.0154\n",
    "t,u"
   ]
  },
  {
   "cell_type": "code",
   "execution_count": 6,
   "id": "e41a460d",
   "metadata": {},
   "outputs": [
    {
     "data": {
      "text/plain": [
       "(12, '864')"
      ]
     },
     "execution_count": 6,
     "metadata": {},
     "output_type": "execute_result"
    }
   ],
   "source": [
    "h,k = 12,'864'\n",
    "h,k"
   ]
  },
  {
   "cell_type": "code",
   "execution_count": 7,
   "id": "d9714038",
   "metadata": {},
   "outputs": [
    {
     "ename": "ValueError",
     "evalue": "too many values to unpack (expected 3)",
     "output_type": "error",
     "traceback": [
      "\u001b[1;31m-------------------------------------------------------------------------\u001b[0m",
      "\u001b[1;31mValueError\u001b[0m                              Traceback (most recent call last)",
      "\u001b[1;32m<ipython-input-7-6460946941cb>\u001b[0m in \u001b[0;36m<module>\u001b[1;34m\u001b[0m\n\u001b[1;32m----> 1\u001b[1;33m \u001b[0me\u001b[0m\u001b[1;33m,\u001b[0m\u001b[0mj\u001b[0m\u001b[1;33m,\u001b[0m\u001b[0mp\u001b[0m \u001b[1;33m=\u001b[0m \u001b[1;36m45\u001b[0m\u001b[1;33m,\u001b[0m\u001b[1;36m78.0215\u001b[0m\u001b[1;33m,\u001b[0m\u001b[1;34m'prasad'\u001b[0m\u001b[1;33m,\u001b[0m\u001b[1;34m'78'\u001b[0m\u001b[1;33m\u001b[0m\u001b[1;33m\u001b[0m\u001b[0m\n\u001b[0m\u001b[0;32m      2\u001b[0m \u001b[0me\u001b[0m\u001b[1;33m,\u001b[0m\u001b[0mj\u001b[0m\u001b[1;33m,\u001b[0m\u001b[0mp\u001b[0m\u001b[1;33m\u001b[0m\u001b[1;33m\u001b[0m\u001b[0m\n",
      "\u001b[1;31mValueError\u001b[0m: too many values to unpack (expected 3)"
     ]
    }
   ],
   "source": [
    "e,j,p = 45,78.0215,'prasad','78'\n",
    "e,j,p"
   ]
  },
  {
   "cell_type": "code",
   "execution_count": 8,
   "id": "8d72fa8d",
   "metadata": {},
   "outputs": [
    {
     "ename": "ValueError",
     "evalue": "not enough values to unpack (expected 5, got 4)",
     "output_type": "error",
     "traceback": [
      "\u001b[1;31m-------------------------------------------------------------------------\u001b[0m",
      "\u001b[1;31mValueError\u001b[0m                              Traceback (most recent call last)",
      "\u001b[1;32m<ipython-input-8-832fd716b4ec>\u001b[0m in \u001b[0;36m<module>\u001b[1;34m\u001b[0m\n\u001b[1;32m----> 1\u001b[1;33m \u001b[0me\u001b[0m\u001b[1;33m,\u001b[0m\u001b[0mj\u001b[0m\u001b[1;33m,\u001b[0m\u001b[0mp\u001b[0m\u001b[1;33m,\u001b[0m\u001b[0mm\u001b[0m\u001b[1;33m,\u001b[0m\u001b[0mn\u001b[0m \u001b[1;33m=\u001b[0m \u001b[1;36m45\u001b[0m\u001b[1;33m,\u001b[0m\u001b[1;36m78.0215\u001b[0m\u001b[1;33m,\u001b[0m\u001b[1;34m'prasad'\u001b[0m\u001b[1;33m,\u001b[0m\u001b[1;34m'78'\u001b[0m\u001b[1;33m\u001b[0m\u001b[1;33m\u001b[0m\u001b[0m\n\u001b[0m\u001b[0;32m      2\u001b[0m \u001b[0me\u001b[0m\u001b[1;33m,\u001b[0m\u001b[0mj\u001b[0m\u001b[1;33m,\u001b[0m\u001b[0mp\u001b[0m\u001b[1;33m,\u001b[0m\u001b[0mm\u001b[0m\u001b[1;33m,\u001b[0m\u001b[0mn\u001b[0m\u001b[1;33m\u001b[0m\u001b[1;33m\u001b[0m\u001b[0m\n",
      "\u001b[1;31mValueError\u001b[0m: not enough values to unpack (expected 5, got 4)"
     ]
    }
   ],
   "source": [
    "e,j,p,m,n = 45,78.0215,'prasad','78'\n",
    "e,j,p,m,n"
   ]
  },
  {
   "cell_type": "code",
   "execution_count": 10,
   "id": "b1e7e170",
   "metadata": {},
   "outputs": [
    {
     "data": {
      "text/plain": [
       "(25, 25, 25)"
      ]
     },
     "execution_count": 10,
     "metadata": {},
     "output_type": "execute_result"
    }
   ],
   "source": [
    "d = t = y = 25\n",
    "d,t,y"
   ]
  },
  {
   "cell_type": "code",
   "execution_count": 11,
   "id": "d2456513",
   "metadata": {},
   "outputs": [
    {
     "data": {
      "text/plain": [
       "140723824784400"
      ]
     },
     "execution_count": 11,
     "metadata": {},
     "output_type": "execute_result"
    }
   ],
   "source": [
    "id(d)"
   ]
  },
  {
   "cell_type": "code",
   "execution_count": 12,
   "id": "de752da7",
   "metadata": {},
   "outputs": [
    {
     "data": {
      "text/plain": [
       "140723824784400"
      ]
     },
     "execution_count": 12,
     "metadata": {},
     "output_type": "execute_result"
    }
   ],
   "source": [
    "id(t)"
   ]
  },
  {
   "cell_type": "code",
   "execution_count": 13,
   "id": "edd967f9",
   "metadata": {},
   "outputs": [
    {
     "data": {
      "text/plain": [
       "140723824783984"
      ]
     },
     "execution_count": 13,
     "metadata": {},
     "output_type": "execute_result"
    }
   ],
   "source": [
    "id(h)"
   ]
  },
  {
   "cell_type": "code",
   "execution_count": 14,
   "id": "50aa645a",
   "metadata": {},
   "outputs": [
    {
     "data": {
      "text/plain": [
       "1556796864944"
      ]
     },
     "execution_count": 14,
     "metadata": {},
     "output_type": "execute_result"
    }
   ],
   "source": [
    "id(k)"
   ]
  },
  {
   "cell_type": "code",
   "execution_count": 15,
   "id": "c08b4c6f",
   "metadata": {},
   "outputs": [
    {
     "name": "stdout",
     "output_type": "stream",
     "text": [
      "96 12.0212 Prasad False 12\n"
     ]
    }
   ],
   "source": [
    "e,m,n,k,p = 96,12.0212,'Prasad',False,'12'\n",
    "print(e,m,n,k,p)"
   ]
  },
  {
   "cell_type": "markdown",
   "id": "9986e5d7",
   "metadata": {},
   "source": [
    "### Type Method:\n",
    "    - To know the data type of a variable\n",
    "    - Syntax:\n",
    "        type(variablename)"
   ]
  },
  {
   "cell_type": "code",
   "execution_count": 17,
   "id": "9e28ee84",
   "metadata": {},
   "outputs": [
    {
     "name": "stdout",
     "output_type": "stream",
     "text": [
      "<class 'str'>\n"
     ]
    },
    {
     "data": {
      "text/plain": [
       "str"
      ]
     },
     "execution_count": 17,
     "metadata": {},
     "output_type": "execute_result"
    }
   ],
   "source": [
    "s = '45'\n",
    "print(type(s))\n",
    "type(s)"
   ]
  },
  {
   "cell_type": "code",
   "execution_count": 18,
   "id": "62a0987f",
   "metadata": {},
   "outputs": [
    {
     "name": "stdout",
     "output_type": "stream",
     "text": [
      "96 <class 'int'>\n",
      "12.0212 <class 'float'>\n",
      "Prasad <class 'str'>\n",
      "False <class 'bool'>\n",
      "12 <class 'str'>\n"
     ]
    }
   ],
   "source": [
    "e,m,n,k,p = 96,12.0212,'Prasad',False,'12'\n",
    "print(e,type(e))\n",
    "print(m,type(m))\n",
    "print(n,type(n))\n",
    "print(k,type(k))\n",
    "print(p,type(p))"
   ]
  },
  {
   "cell_type": "markdown",
   "id": "a1c8df69",
   "metadata": {},
   "source": [
    "#### Type Casting:\n",
    "    - To change the data type from one data type to another data type\n",
    "    - int()\n",
    "    - float()\n",
    "    - str()\n",
    "    - complex()\n",
    "    - All Data Structures [List,Tuple,set and Dictionary]"
   ]
  },
  {
   "cell_type": "markdown",
   "id": "62b9b355",
   "metadata": {},
   "source": [
    "### Input Formatting:\n",
    "    - It is used for reading a values from user\n",
    "    - It will displays an info to a user\n",
    "    - Syntax:\n",
    "        input(\"Something info\")"
   ]
  },
  {
   "cell_type": "code",
   "execution_count": 3,
   "id": "941a7f2b",
   "metadata": {},
   "outputs": [
    {
     "name": "stdout",
     "output_type": "stream",
     "text": [
      "Enter First value: 1\n",
      "Enter Second value: 2\n",
      "1 <class 'str'>\n",
      "2 <class 'str'>\n",
      "Addition of two values is:  3\n",
      "1 <class 'str'>\n",
      "2 <class 'str'>\n"
     ]
    }
   ],
   "source": [
    "n = input(\"Enter First value: \")\n",
    "m = input(\"Enter Second value: \")\n",
    "print(n,type(n))\n",
    "print(m,type(m))\n",
    "print(\"Addition of two values is: \",int(n)+int(m))\n",
    "print(n,type(n))\n",
    "print(m,type(m))"
   ]
  },
  {
   "cell_type": "code",
   "execution_count": 5,
   "id": "22087e26",
   "metadata": {},
   "outputs": [
    {
     "name": "stdout",
     "output_type": "stream",
     "text": [
      "Enter a value: 45\n",
      "Enter b value: 2\n",
      "45 <class 'int'>\n",
      "2 <class 'int'>\n",
      "47\n"
     ]
    }
   ],
   "source": [
    "h = int(input(\"Enter a value: \"))\n",
    "b = int(input(\"Enter b value: \"))\n",
    "print(h,type(h))\n",
    "print(b,type(b))\n",
    "print(h+b)"
   ]
  },
  {
   "cell_type": "markdown",
   "id": "dfb19195",
   "metadata": {},
   "source": [
    "### Output Formatting:\n",
    "    - ,\n",
    "    - %\n",
    "    - .format => pyformat.info"
   ]
  },
  {
   "cell_type": "code",
   "execution_count": 10,
   "id": "56150772",
   "metadata": {},
   "outputs": [
    {
     "name": "stdout",
     "output_type": "stream",
     "text": [
      "4\n",
      "5\n",
      "Addition of 4 and 5 is: 9\n",
      "Substraction of 4 and 5 is: -1\n",
      "Division of 5 and 4 is: 0.8\n"
     ]
    }
   ],
   "source": [
    "n = int(input())\n",
    "m = int(input())\n",
    "print(\"Addition of\",n,\"and\",m,\"is:\",n+m)\n",
    "print(\"Substraction of %d and %d is: %d\"%(n,m,n-m))\n",
    "print(\"Division of {1} and {0} is: {2}\".format(n,m,n/m))"
   ]
  },
  {
   "cell_type": "markdown",
   "id": "24859540",
   "metadata": {},
   "source": [
    "```\n",
    "Input:\n",
    "    5\n",
    "\n",
    "Output:\n",
    "    Given number is: 5\n",
    "    Given number is 5 and its float value is: 5.0\n",
    "    Given number is 5 and its string value is: '5'\n",
    "```"
   ]
  },
  {
   "cell_type": "code",
   "execution_count": 13,
   "id": "930f2941",
   "metadata": {},
   "outputs": [
    {
     "name": "stdout",
     "output_type": "stream",
     "text": [
      "5\n",
      "Given number is: 5\n",
      "Given number is 5 and its float value is: 5.0\n",
      "Given number is 5 and its String value is: '5'\n"
     ]
    }
   ],
   "source": [
    "n = int(input())\n",
    "print(\"Given number is: {}\".format(n))\n",
    "print(\"Given number is {} and its float value is: {}\"\n",
    "      .format(n,float(n)))\n",
    "print(\"Given number is {} and its String value is: '{}'\"\n",
    "      .format(n,str(n)))"
   ]
  },
  {
   "cell_type": "code",
   "execution_count": null,
   "id": "d9cdf226",
   "metadata": {},
   "outputs": [],
   "source": []
  }
 ],
 "metadata": {
  "kernelspec": {
   "display_name": "Python 3",
   "language": "python",
   "name": "python3"
  },
  "language_info": {
   "codemirror_mode": {
    "name": "ipython",
    "version": 3
   },
   "file_extension": ".py",
   "mimetype": "text/x-python",
   "name": "python",
   "nbconvert_exporter": "python",
   "pygments_lexer": "ipython3",
   "version": "3.7.5"
  }
 },
 "nbformat": 4,
 "nbformat_minor": 5
}
